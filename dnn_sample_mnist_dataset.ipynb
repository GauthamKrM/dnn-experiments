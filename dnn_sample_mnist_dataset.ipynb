{
 "cells": [
  {
   "cell_type": "markdown",
   "id": "627913b8-9169-4cac-a945-ad40594aa15a",
   "metadata": {},
   "source": [
    "## Deep Neural Networks using Keras"
   ]
  },
  {
   "cell_type": "code",
   "execution_count": 18,
   "id": "61dbc709-62bf-47f7-a5fa-db4f54fee7c8",
   "metadata": {},
   "outputs": [],
   "source": [
    "import tensorflow as tf\n",
    "\n",
    "from tensorflow.keras import models\n",
    "from tensorflow.keras import layers\n",
    "\n",
    "import random\n",
    "import numpy as np"
   ]
  },
  {
   "cell_type": "code",
   "execution_count": 19,
   "id": "0d39c5ee-23fe-46b4-90dc-9d01d03cb342",
   "metadata": {},
   "outputs": [],
   "source": [
    "random.seed(42) # Initialize the random number generator\n",
    "np.random.seed(42)"
   ]
  },
  {
   "cell_type": "markdown",
   "id": "0404b65a-c6d7-44b0-bb82-18a55aa15b4a",
   "metadata": {},
   "source": [
    "#### Dataset"
   ]
  },
  {
   "cell_type": "markdown",
   "id": "41315f37-76a0-4030-9abb-b47e8a3b6a46",
   "metadata": {},
   "source": [
    "MNIST (Modified National Institute of Standards and Technology) dataset, which contains:\n",
    "- Training set: 60,000 grayscale images of handwritten digits (0-9)\n",
    "- Test set: 10,000 grayscale images of handwritten digits (0-9)\n",
    "- Image size: 28x28 pixels\n",
    "- Pixel values: 0-255 (grayscale intensities)"
   ]
  },
  {
   "cell_type": "code",
   "execution_count": 20,
   "id": "8d5056b2-a805-4122-9405-239fe03cc557",
   "metadata": {},
   "outputs": [],
   "source": [
    "# Using the MNIST dataset of Keras\n",
    "mnist = tf.keras.datasets.mnist\n",
    "\n",
    "(Xtrain, Ytrain), (Xtest, Ytest)  = mnist.load_data()"
   ]
  },
  {
   "cell_type": "code",
   "execution_count": 21,
   "id": "d7d6404c-7111-4c2d-8394-591f1358f401",
   "metadata": {},
   "outputs": [
    {
     "data": {
      "text/plain": [
       "Text(0.5, 1.0, 'Ground Truth (Test): 7')"
      ]
     },
     "execution_count": 21,
     "metadata": {},
     "output_type": "execute_result"
    },
    {
     "data": {
      "image/png": "[encoded data removed]",
      "text/plain": [
       "<Figure size 500x500 with 2 Axes>"
      ]
     },
     "metadata": {},
     "output_type": "display_data"
    }
   ],
   "source": [
    "import matplotlib.pyplot as plt\n",
    "\n",
    "plt.figure(figsize=[5,5])\n",
    "\n",
    "# Display the first image in training data\n",
    "plt.subplot(121)\n",
    "plt.imshow(Xtrain[0, :, :], cmap=\"gray\")\n",
    "plt.title(f\"Ground Truth (Train): {Ytrain[0]}\")\n",
    "\n",
    "# Display the first image in testing data\n",
    "plt.subplot(122)\n",
    "plt.imshow(Xtest[0, :, :], cmap=\"gray\")\n",
    "plt.title(f\"Ground Truth (Test): {Ytest[0]}\")"
   ]
  },
  {
   "cell_type": "code",
   "execution_count": 22,
   "id": "9d60faa5-88bb-422e-897b-9a974be40065",
   "metadata": {},
   "outputs": [
    {
     "name": "stdout",
     "output_type": "stream",
     "text": [
      "(60000, 28, 28)\n",
      "(10000, 28, 28)\n",
      "(60000,)\n",
      "(10000,)\n"
     ]
    }
   ],
   "source": [
    "# Size if the datasets\n",
    "print(Xtrain.shape)\n",
    "print(Xtest.shape)\n",
    "print(Ytrain.shape)\n",
    "print(Ytest.shape)"
   ]
  },
  {
   "cell_type": "code",
   "execution_count": 23,
   "id": "a5364c04-364e-47bf-92dc-e3dd4e739850",
   "metadata": {},
   "outputs": [
    {
     "name": "stdout",
     "output_type": "stream",
     "text": [
      "Xtrain \n",
      " [  0   0   0   0   0   0   0   0   0   0   0   0   0  24 209 254 254 254\n",
      " 171   0   0   0   0   0   0   0   0   0]\n",
      "Xtest \n",
      " [  0   0   0   0   0   0   0   0 194 254 103   0   0   0   0   0   0   0\n",
      "   0   0 150 254 213   0   0   0   0   0]\n",
      "Ytrain \n",
      " 3\n",
      "Ytest \n",
      " 0\n"
     ]
    }
   ],
   "source": [
    "# Print a sample data\n",
    "print('Xtrain \\n', Xtrain[10,10])\n",
    "print('Xtest \\n', Xtest[10,10])\n",
    "print('Ytrain \\n', Ytrain[10,])\n",
    "print('Ytest \\n', Ytest[10,])"
   ]
  },
  {
   "cell_type": "code",
   "execution_count": 24,
   "id": "ded5991d-e408-45d4-8bbd-beed2617374b",
   "metadata": {},
   "outputs": [],
   "source": [
    "# Normalize the data\n",
    "\n",
    "# 60000 images are there in the train set\n",
    "# 10000 images are there in the test set\n",
    "\n",
    "Xtrain = Xtrain.reshape((60000, 28 * 28)) # reshape the input set to size 28 * 28\n",
    "Xtrain = Xtrain.astype(\"float32\") / 255 # Normalize the grayscale; set datatype as float32\n",
    "\n",
    "Xtest = Xtest.reshape((10000, 28 * 28))\n",
    "Xtest = Xtest.astype(\"float32\") / 255\n",
    "\n",
    "Ytrain = tf.keras.utils.to_categorical(Ytrain)\n",
    "Ytest = tf.keras.utils.to_categorical(Ytest)"
   ]
  },
  {
   "cell_type": "code",
   "execution_count": 25,
   "id": "0a80ee7c-64f1-4b08-bb1d-45f76449da45",
   "metadata": {},
   "outputs": [
    {
     "name": "stdout",
     "output_type": "stream",
     "text": [
      "Xtrain \n",
      " 0.0\n",
      "Xtest \n",
      " 0.0\n",
      "Ytrain \n",
      " [0. 0. 0. 1. 0. 0. 0. 0. 0. 0.]\n",
      "Ytest \n",
      " [1. 0. 0. 0. 0. 0. 0. 0. 0. 0.]\n"
     ]
    }
   ],
   "source": [
    "# print a sample data\n",
    "print('Xtrain \\n', Xtrain[10,10])\n",
    "print('Xtest \\n', Xtest[10,10])\n",
    "print('Ytrain \\n', Ytrain[10,])\n",
    "print('Ytest \\n', Ytest[10,])"
   ]
  },
  {
   "cell_type": "markdown",
   "id": "53c8850c-0506-45d1-94aa-7cfd58551983",
   "metadata": {},
   "source": [
    "#### DNN Model"
   ]
  },
  {
   "cell_type": "markdown",
   "id": "6c638089-44b2-4a17-ba90-db3e75eef02a",
   "metadata": {},
   "source": [
    "Using keras, creating the DNN or sequential model\""
   ]
  },
  {
   "cell_type": "code",
   "execution_count": 26,
   "id": "2724a3c4-d704-44be-b74e-411bce1e61d0",
   "metadata": {},
   "outputs": [],
   "source": [
    "# Create a model object\n",
    "dnnModel = models.Sequential()"
   ]
  },
  {
   "cell_type": "markdown",
   "id": "256846c6-6c59-4d5b-a7eb-a629e4adac5f",
   "metadata": {},
   "source": [
    "Specifying the number of neurons in each layer and the activation function used in each layer"
   ]
  },
  {
   "cell_type": "code",
   "execution_count": 27,
   "id": "a9237ba0-d676-4dbf-89b7-5f547a1e91de",
   "metadata": {},
   "outputs": [
    {
     "data": {
      "text/html": [
       "<pre style=\"white-space:pre;overflow-x:auto;line-height:normal;font-family:Menlo,'DejaVu Sans Mono',consolas,'Courier New',monospace\"><span style=\"font-weight: bold\">Model: \"sequential_2\"</span>\n",
       "</pre>\n"
      ],
      "text/plain": [
       "\u001b[1mModel: \"sequential_2\"\u001b[0m\n"
      ]
     },
     "metadata": {},
     "output_type": "display_data"
    },
    {
     "data": {
      "text/html": [
       "<pre style=\"white-space:pre;overflow-x:auto;line-height:normal;font-family:Menlo,'DejaVu Sans Mono',consolas,'Courier New',monospace\">┏━━━━━━━━━━━━━━━━━━━━━━━━━━━━━━━━━━━━━━┳━━━━━━━━━━━━━━━━━━━━━━━━━━━━━┳━━━━━━━━━━━━━━━━━┓\n",
       "┃<span style=\"font-weight: bold\"> Layer (type)                         </span>┃<span style=\"font-weight: bold\"> Output Shape                </span>┃<span style=\"font-weight: bold\">         Param # </span>┃\n",
       "┡━━━━━━━━━━━━━━━━━━━━━━━━━━━━━━━━━━━━━━╇━━━━━━━━━━━━━━━━━━━━━━━━━━━━━╇━━━━━━━━━━━━━━━━━┩\n",
       "│ dense_11 (<span style=\"color: #0087ff; text-decoration-color: #0087ff\">Dense</span>)                     │ (<span style=\"color: #00d7ff; text-decoration-color: #00d7ff\">None</span>, <span style=\"color: #00af00; text-decoration-color: #00af00\">50</span>)                  │          <span style=\"color: #00af00; text-decoration-color: #00af00\">39,250</span> │\n",
       "├──────────────────────────────────────┼─────────────────────────────┼─────────────────┤\n",
       "│ dense_12 (<span style=\"color: #0087ff; text-decoration-color: #0087ff\">Dense</span>)                     │ (<span style=\"color: #00d7ff; text-decoration-color: #00d7ff\">None</span>, <span style=\"color: #00af00; text-decoration-color: #00af00\">60</span>)                  │           <span style=\"color: #00af00; text-decoration-color: #00af00\">3,060</span> │\n",
       "├──────────────────────────────────────┼─────────────────────────────┼─────────────────┤\n",
       "│ dense_13 (<span style=\"color: #0087ff; text-decoration-color: #0087ff\">Dense</span>)                     │ (<span style=\"color: #00d7ff; text-decoration-color: #00d7ff\">None</span>, <span style=\"color: #00af00; text-decoration-color: #00af00\">30</span>)                  │           <span style=\"color: #00af00; text-decoration-color: #00af00\">1,830</span> │\n",
       "├──────────────────────────────────────┼─────────────────────────────┼─────────────────┤\n",
       "│ dense_14 (<span style=\"color: #0087ff; text-decoration-color: #0087ff\">Dense</span>)                     │ (<span style=\"color: #00d7ff; text-decoration-color: #00d7ff\">None</span>, <span style=\"color: #00af00; text-decoration-color: #00af00\">10</span>)                  │             <span style=\"color: #00af00; text-decoration-color: #00af00\">310</span> │\n",
       "└──────────────────────────────────────┴─────────────────────────────┴─────────────────┘\n",
       "</pre>\n"
      ],
      "text/plain": [
       "┏━━━━━━━━━━━━━━━━━━━━━━━━━━━━━━━━━━━━━━┳━━━━━━━━━━━━━━━━━━━━━━━━━━━━━┳━━━━━━━━━━━━━━━━━┓\n",
       "┃\u001b[1m \u001b[0m\u001b[1mLayer (type)                        \u001b[0m\u001b[1m \u001b[0m┃\u001b[1m \u001b[0m\u001b[1mOutput Shape               \u001b[0m\u001b[1m \u001b[0m┃\u001b[1m \u001b[0m\u001b[1m        Param #\u001b[0m\u001b[1m \u001b[0m┃\n",
       "┡━━━━━━━━━━━━━━━━━━━━━━━━━━━━━━━━━━━━━━╇━━━━━━━━━━━━━━━━━━━━━━━━━━━━━╇━━━━━━━━━━━━━━━━━┩\n",
       "│ dense_11 (\u001b[38;5;33mDense\u001b[0m)                     │ (\u001b[38;5;45mNone\u001b[0m, \u001b[38;5;34m50\u001b[0m)                  │          \u001b[38;5;34m39,250\u001b[0m │\n",
       "├──────────────────────────────────────┼─────────────────────────────┼─────────────────┤\n",
       "│ dense_12 (\u001b[38;5;33mDense\u001b[0m)                     │ (\u001b[38;5;45mNone\u001b[0m, \u001b[38;5;34m60\u001b[0m)                  │           \u001b[38;5;34m3,060\u001b[0m │\n",
       "├──────────────────────────────────────┼─────────────────────────────┼─────────────────┤\n",
       "│ dense_13 (\u001b[38;5;33mDense\u001b[0m)                     │ (\u001b[38;5;45mNone\u001b[0m, \u001b[38;5;34m30\u001b[0m)                  │           \u001b[38;5;34m1,830\u001b[0m │\n",
       "├──────────────────────────────────────┼─────────────────────────────┼─────────────────┤\n",
       "│ dense_14 (\u001b[38;5;33mDense\u001b[0m)                     │ (\u001b[38;5;45mNone\u001b[0m, \u001b[38;5;34m10\u001b[0m)                  │             \u001b[38;5;34m310\u001b[0m │\n",
       "└──────────────────────────────────────┴─────────────────────────────┴─────────────────┘\n"
      ]
     },
     "metadata": {},
     "output_type": "display_data"
    },
    {
     "data": {
      "text/html": [
       "<pre style=\"white-space:pre;overflow-x:auto;line-height:normal;font-family:Menlo,'DejaVu Sans Mono',consolas,'Courier New',monospace\"><span style=\"font-weight: bold\"> Total params: </span><span style=\"color: #00af00; text-decoration-color: #00af00\">44,450</span> (173.63 KB)\n",
       "</pre>\n"
      ],
      "text/plain": [
       "\u001b[1m Total params: \u001b[0m\u001b[38;5;34m44,450\u001b[0m (173.63 KB)\n"
      ]
     },
     "metadata": {},
     "output_type": "display_data"
    },
    {
     "data": {
      "text/html": [
       "<pre style=\"white-space:pre;overflow-x:auto;line-height:normal;font-family:Menlo,'DejaVu Sans Mono',consolas,'Courier New',monospace\"><span style=\"font-weight: bold\"> Trainable params: </span><span style=\"color: #00af00; text-decoration-color: #00af00\">44,450</span> (173.63 KB)\n",
       "</pre>\n"
      ],
      "text/plain": [
       "\u001b[1m Trainable params: \u001b[0m\u001b[38;5;34m44,450\u001b[0m (173.63 KB)\n"
      ]
     },
     "metadata": {},
     "output_type": "display_data"
    },
    {
     "data": {
      "text/html": [
       "<pre style=\"white-space:pre;overflow-x:auto;line-height:normal;font-family:Menlo,'DejaVu Sans Mono',consolas,'Courier New',monospace\"><span style=\"font-weight: bold\"> Non-trainable params: </span><span style=\"color: #00af00; text-decoration-color: #00af00\">0</span> (0.00 B)\n",
       "</pre>\n"
      ],
      "text/plain": [
       "\u001b[1m Non-trainable params: \u001b[0m\u001b[38;5;34m0\u001b[0m (0.00 B)\n"
      ]
     },
     "metadata": {},
     "output_type": "display_data"
    }
   ],
   "source": [
    "# Layer 1: hidden layer\n",
    "dnnModel.add(layers.Dense(50, activation=\"relu\", input_shape=(28 * 28, )))\n",
    "\n",
    "# Layer 2: hidden layer\n",
    "dnnModel.add(layers.Dense(60, activation=\"relu\"))\n",
    "\n",
    "# Layer 3: hidden layer\n",
    "dnnModel.add(layers.Dense(30, activation=\"relu\"))\n",
    "\n",
    "# Layer 4: Output layer\n",
    "# Numer of neurons = number of digits 0-9 (total 10)\n",
    "dnnModel.add(layers.Dense(10, activation=\"softmax\"))\n",
    "\n",
    "dnnModel.summary()"
   ]
  },
  {
   "cell_type": "markdown",
   "id": "a78f04bd-5aae-42c1-af61-01d214549fd3",
   "metadata": {},
   "source": [
    "#### Regularization and Optimizations of DNN"
   ]
  },
  {
   "cell_type": "code",
   "execution_count": 35,
   "id": "4bf49e57-5e62-4df2-a7a0-b999e23d3562",
   "metadata": {},
   "outputs": [],
   "source": [
    "# Configure  the model for training, by using appropriate optimizers and regularizations\n",
    "# Available optimizer: adam, rmsprop, adagrad, sgd\n",
    "# Available loss: categorical_crossentropy, binary_crossentropy, mean_squared_error\n",
    "# Metrics: List of metrics to be evaluated by the model during training and testing. \n",
    "\n",
    "dnnModel.compile(optimizer=\"sgd\", loss=\"categorical_crossentropy\", metrics=[\"accuracy\"])"
   ]
  },
  {
   "cell_type": "markdown",
   "id": "0fb9d143-de27-48a8-964a-67c50f39b5e4",
   "metadata": {},
   "source": [
    "#### Training the Model"
   ]
  },
  {
   "cell_type": "code",
   "execution_count": 36,
   "id": "300a53ba-d7d5-4323-8bc7-dca620acdda8",
   "metadata": {},
   "outputs": [
    {
     "name": "stdout",
     "output_type": "stream",
     "text": [
      "Epoch 1/25\n",
      "\u001b[1m844/844\u001b[0m \u001b[32m━━━━━━━━━━━━━━━━━━━━\u001b[0m\u001b[37m\u001b[0m \u001b[1m4s\u001b[0m 3ms/step - accuracy: 0.3363 - loss: 1.9908 - val_accuracy: 0.8725 - val_loss: 0.5368\n",
      "Epoch 2/25\n",
      "\u001b[1m844/844\u001b[0m \u001b[32m━━━━━━━━━━━━━━━━━━━━\u001b[0m\u001b[37m\u001b[0m \u001b[1m3s\u001b[0m 3ms/step - accuracy: 0.8576 - loss: 0.5301 - val_accuracy: 0.9173 - val_loss: 0.3088\n",
      "Epoch 3/25\n",
      "\u001b[1m844/844\u001b[0m \u001b[32m━━━━━━━━━━━━━━━━━━━━\u001b[0m\u001b[37m\u001b[0m \u001b[1m5s\u001b[0m 3ms/step - accuracy: 0.8936 - loss: 0.3766 - val_accuracy: 0.9288 - val_loss: 0.2599\n",
      "Epoch 4/25\n",
      "\u001b[1m844/844\u001b[0m \u001b[32m━━━━━━━━━━━━━━━━━━━━\u001b[0m\u001b[37m\u001b[0m \u001b[1m5s\u001b[0m 3ms/step - accuracy: 0.9101 - loss: 0.3143 - val_accuracy: 0.9350 - val_loss: 0.2348\n",
      "Epoch 5/25\n",
      "\u001b[1m844/844\u001b[0m \u001b[32m━━━━━━━━━━━━━━━━━━━━\u001b[0m\u001b[37m\u001b[0m \u001b[1m5s\u001b[0m 3ms/step - accuracy: 0.9178 - loss: 0.2832 - val_accuracy: 0.9430 - val_loss: 0.2093\n",
      "Epoch 6/25\n",
      "\u001b[1m844/844\u001b[0m \u001b[32m━━━━━━━━━━━━━━━━━━━━\u001b[0m\u001b[37m\u001b[0m \u001b[1m5s\u001b[0m 3ms/step - accuracy: 0.9236 - loss: 0.2644 - val_accuracy: 0.9455 - val_loss: 0.1907\n",
      "Epoch 7/25\n",
      "\u001b[1m844/844\u001b[0m \u001b[32m━━━━━━━━━━━━━━━━━━━━\u001b[0m\u001b[37m\u001b[0m \u001b[1m5s\u001b[0m 4ms/step - accuracy: 0.9310 - loss: 0.2359 - val_accuracy: 0.9453 - val_loss: 0.1817\n",
      "Epoch 8/25\n",
      "\u001b[1m844/844\u001b[0m \u001b[32m━━━━━━━━━━━━━━━━━━━━\u001b[0m\u001b[37m\u001b[0m \u001b[1m3s\u001b[0m 4ms/step - accuracy: 0.9361 - loss: 0.2187 - val_accuracy: 0.9542 - val_loss: 0.1647\n",
      "Epoch 9/25\n",
      "\u001b[1m844/844\u001b[0m \u001b[32m━━━━━━━━━━━━━━━━━━━━\u001b[0m\u001b[37m\u001b[0m \u001b[1m5s\u001b[0m 3ms/step - accuracy: 0.9426 - loss: 0.1988 - val_accuracy: 0.9548 - val_loss: 0.1572\n",
      "Epoch 10/25\n",
      "\u001b[1m844/844\u001b[0m \u001b[32m━━━━━━━━━━━━━━━━━━━━\u001b[0m\u001b[37m\u001b[0m \u001b[1m5s\u001b[0m 3ms/step - accuracy: 0.9459 - loss: 0.1843 - val_accuracy: 0.9605 - val_loss: 0.1475\n",
      "Epoch 11/25\n",
      "\u001b[1m844/844\u001b[0m \u001b[32m━━━━━━━━━━━━━━━━━━━━\u001b[0m\u001b[37m\u001b[0m \u001b[1m6s\u001b[0m 4ms/step - accuracy: 0.9502 - loss: 0.1741 - val_accuracy: 0.9597 - val_loss: 0.1420\n",
      "Epoch 12/25\n",
      "\u001b[1m844/844\u001b[0m \u001b[32m━━━━━━━━━━━━━━━━━━━━\u001b[0m\u001b[37m\u001b[0m \u001b[1m5s\u001b[0m 4ms/step - accuracy: 0.9535 - loss: 0.1623 - val_accuracy: 0.9588 - val_loss: 0.1395\n",
      "Epoch 13/25\n",
      "\u001b[1m844/844\u001b[0m \u001b[32m━━━━━━━━━━━━━━━━━━━━\u001b[0m\u001b[37m\u001b[0m \u001b[1m5s\u001b[0m 3ms/step - accuracy: 0.9560 - loss: 0.1534 - val_accuracy: 0.9660 - val_loss: 0.1270\n",
      "Epoch 14/25\n",
      "\u001b[1m844/844\u001b[0m \u001b[32m━━━━━━━━━━━━━━━━━━━━\u001b[0m\u001b[37m\u001b[0m \u001b[1m5s\u001b[0m 4ms/step - accuracy: 0.9577 - loss: 0.1440 - val_accuracy: 0.9663 - val_loss: 0.1248\n",
      "Epoch 15/25\n",
      "\u001b[1m844/844\u001b[0m \u001b[32m━━━━━━━━━━━━━━━━━━━━\u001b[0m\u001b[37m\u001b[0m \u001b[1m5s\u001b[0m 4ms/step - accuracy: 0.9599 - loss: 0.1407 - val_accuracy: 0.9665 - val_loss: 0.1203\n",
      "Epoch 16/25\n",
      "\u001b[1m844/844\u001b[0m \u001b[32m━━━━━━━━━━━━━━━━━━━━\u001b[0m\u001b[37m\u001b[0m \u001b[1m5s\u001b[0m 4ms/step - accuracy: 0.9638 - loss: 0.1280 - val_accuracy: 0.9677 - val_loss: 0.1147\n",
      "Epoch 17/25\n",
      "\u001b[1m844/844\u001b[0m \u001b[32m━━━━━━━━━━━━━━━━━━━━\u001b[0m\u001b[37m\u001b[0m \u001b[1m5s\u001b[0m 4ms/step - accuracy: 0.9656 - loss: 0.1214 - val_accuracy: 0.9672 - val_loss: 0.1152\n",
      "Epoch 18/25\n",
      "\u001b[1m844/844\u001b[0m \u001b[32m━━━━━━━━━━━━━━━━━━━━\u001b[0m\u001b[37m\u001b[0m \u001b[1m5s\u001b[0m 3ms/step - accuracy: 0.9665 - loss: 0.1163 - val_accuracy: 0.9688 - val_loss: 0.1128\n",
      "Epoch 19/25\n",
      "\u001b[1m844/844\u001b[0m \u001b[32m━━━━━━━━━━━━━━━━━━━━\u001b[0m\u001b[37m\u001b[0m \u001b[1m5s\u001b[0m 3ms/step - accuracy: 0.9666 - loss: 0.1163 - val_accuracy: 0.9708 - val_loss: 0.1096\n",
      "Epoch 20/25\n",
      "\u001b[1m844/844\u001b[0m \u001b[32m━━━━━━━━━━━━━━━━━━━━\u001b[0m\u001b[37m\u001b[0m \u001b[1m5s\u001b[0m 4ms/step - accuracy: 0.9691 - loss: 0.1054 - val_accuracy: 0.9697 - val_loss: 0.1094\n",
      "Epoch 21/25\n",
      "\u001b[1m844/844\u001b[0m \u001b[32m━━━━━━━━━━━━━━━━━━━━\u001b[0m\u001b[37m\u001b[0m \u001b[1m5s\u001b[0m 4ms/step - accuracy: 0.9698 - loss: 0.1050 - val_accuracy: 0.9718 - val_loss: 0.1051\n",
      "Epoch 22/25\n",
      "\u001b[1m844/844\u001b[0m \u001b[32m━━━━━━━━━━━━━━━━━━━━\u001b[0m\u001b[37m\u001b[0m \u001b[1m5s\u001b[0m 4ms/step - accuracy: 0.9711 - loss: 0.0993 - val_accuracy: 0.9712 - val_loss: 0.1027\n",
      "Epoch 23/25\n",
      "\u001b[1m844/844\u001b[0m \u001b[32m━━━━━━━━━━━━━━━━━━━━\u001b[0m\u001b[37m\u001b[0m \u001b[1m5s\u001b[0m 3ms/step - accuracy: 0.9731 - loss: 0.0957 - val_accuracy: 0.9702 - val_loss: 0.1050\n",
      "Epoch 24/25\n",
      "\u001b[1m844/844\u001b[0m \u001b[32m━━━━━━━━━━━━━━━━━━━━\u001b[0m\u001b[37m\u001b[0m \u001b[1m5s\u001b[0m 3ms/step - accuracy: 0.9718 - loss: 0.0959 - val_accuracy: 0.9722 - val_loss: 0.0991\n",
      "Epoch 25/25\n",
      "\u001b[1m844/844\u001b[0m \u001b[32m━━━━━━━━━━━━━━━━━━━━\u001b[0m\u001b[37m\u001b[0m \u001b[1m5s\u001b[0m 3ms/step - accuracy: 0.9736 - loss: 0.0876 - val_accuracy: 0.9737 - val_loss: 0.1001\n"
     ]
    }
   ],
   "source": [
    "h = dnnModel.fit(Xtrain, Ytrain, epochs=25, validation_split=0.1, batch_size=64)"
   ]
  },
  {
   "cell_type": "code",
   "execution_count": 37,
   "id": "ee209ca1-d1b6-41a7-b12b-ccb65f404d13",
   "metadata": {},
   "outputs": [
    {
     "name": "stdout",
     "output_type": "stream",
     "text": [
      "Final training accuracy 0.9734629392623901\n",
      "Final validation accuracy 0.9736666679382324\n"
     ]
    }
   ],
   "source": [
    "print(\"Final training accuracy\", h.history[\"accuracy\"][-1])\n",
    "print(\"Final validation accuracy\", h.history[\"val_accuracy\"][-1])"
   ]
  },
  {
   "cell_type": "markdown",
   "id": "6aa79143-a676-4445-a2c4-fa63e1eba972",
   "metadata": {},
   "source": [
    "#### Testing the Model"
   ]
  },
  {
   "cell_type": "code",
   "execution_count": 38,
   "id": "058c6e30-6c8b-46d1-bf81-b065e8b55d70",
   "metadata": {},
   "outputs": [
    {
     "name": "stdout",
     "output_type": "stream",
     "text": [
      "\u001b[1m313/313\u001b[0m \u001b[32m━━━━━━━━━━━━━━━━━━━━\u001b[0m\u001b[37m\u001b[0m \u001b[1m1s\u001b[0m 2ms/step - accuracy: 0.9591 - loss: 0.1323\n"
     ]
    }
   ],
   "source": [
    "test_loss, test_accuracy = dnnModel.evaluate(Xtest, Ytest)"
   ]
  },
  {
   "cell_type": "code",
   "execution_count": 39,
   "id": "06d3ebbe-b91f-43ca-89a3-5bb213f116ad",
   "metadata": {},
   "outputs": [
    {
     "name": "stdout",
     "output_type": "stream",
     "text": [
      "Testing loss: 0.11589344590902328\n",
      "Testing accuracy: 0.9648000001907349\n"
     ]
    }
   ],
   "source": [
    "print(f\"Testing loss: {test_loss}\")\n",
    "print(f\"Testing accuracy: {test_accuracy}\")"
   ]
  },
  {
   "cell_type": "code",
   "execution_count": 40,
   "id": "c610489f-63e8-438c-824f-5ec195db0c38",
   "metadata": {},
   "outputs": [
    {
     "name": "stdout",
     "output_type": "stream",
     "text": [
      "\u001b[1m313/313\u001b[0m \u001b[32m━━━━━━━━━━━━━━━━━━━━\u001b[0m\u001b[37m\u001b[0m \u001b[1m1s\u001b[0m 2ms/step\n"
     ]
    }
   ],
   "source": [
    "num_classes = 9\n",
    "\n",
    "# Target names\n",
    "target_names = [\"Class {}\".format(i) for i in range(num_classes)]\n",
    "\n",
    "Ytrue = np.argmax(Ytest, axis=1)\n",
    "\n",
    "# Predict labels\n",
    "Ypredicted = dnnModel.predict(Xtest)\n",
    "Ypredicted = np.argmax(np.round(Ypredicted), axis=1)"
   ]
  },
  {
   "cell_type": "code",
   "execution_count": 44,
   "id": "0c640a36-6ee0-4557-b90e-93a12dc79af3",
   "metadata": {},
   "outputs": [
    {
     "data": {
      "image/png": "[encoded data removed]",
      "text/plain": [
       "<Figure size 640x480 with 1 Axes>"
      ]
     },
     "metadata": {},
     "output_type": "display_data"
    }
   ],
   "source": [
    "import matplotlib.pyplot as plt\n",
    "\n",
    "accuracy = h.history[\"accuracy\"]\n",
    "val_accuracy = h.history[\"val_accuracy\"]\n",
    "\n",
    "# Plot loss and accuracy\n",
    "epochs = range(len(accuracy))\n",
    "\n",
    "plt.style.use('ggplot')\n",
    "plt.plot(epochs, accuracy, 'blue', label='Training accuracy')\n",
    "plt.plot(epochs, val_accuracy, 'red', label='Validation accuracy')\n",
    "plt.xlabel('Epochs', fontsize=14)\n",
    "plt.ylabel('Accuracy', fontsize=14)\n",
    "plt.title('Training', fontsize=17)\n",
    "plt.legend(loc='lower right') \n",
    "plt.grid(None)\n",
    "\n",
    "plt.show()"
   ]
  },
  {
   "cell_type": "code",
   "execution_count": 47,
   "id": "dacd9580-37ab-4a83-b28f-3acfb9f6fd95",
   "metadata": {},
   "outputs": [
    {
     "name": "stdout",
     "output_type": "stream",
     "text": [
      "[[ 969    1    0    1    0    2    4    1    2    0]\n",
      " [   3 1119    2    1    0    1    5    2    2    0]\n",
      " [  17    1  992    2    3    1    4    5    5    2]\n",
      " [   9    0    6  969    0    8    0    5    7    6]\n",
      " [  10    0    3    0  945    0    6    2    1   15]\n",
      " [  17    1    0    9    0  843    8    2    8    4]\n",
      " [   9    3    2    0    5    6  932    0    1    0]\n",
      " [  12    9   13    0    0    0    0  975    3   16]\n",
      " [  23    1    4    5    6    6    8    6  910    5]\n",
      " [  15    6    0    6   13    1    0    4    0  964]]\n"
     ]
    },
    {
     "data": {
      "text/plain": [
       "<Axes: >"
      ]
     },
     "execution_count": 47,
     "metadata": {},
     "output_type": "execute_result"
    },
    {
     "data": {
      "image/png": "[encoded data removed]",
      "text/plain": [
       "<Figure size 640x480 with 2 Axes>"
      ]
     },
     "metadata": {},
     "output_type": "display_data"
    }
   ],
   "source": [
    "import seaborn as sn\n",
    "import pandas as pd\n",
    "import matplotlib.pyplot as plt\n",
    "from sklearn.metrics import confusion_matrix\n",
    "\n",
    "cm = confusion_matrix(Ytrue, Ypredicted)\n",
    "print(cm)\n",
    "df_cm = pd.DataFrame(cm)\n",
    "\n",
    "sn.heatmap(df_cm, annot=True, vmin=20, vmax=40, cmap=\"Blues\")"
   ]
  },
  {
   "cell_type": "code",
   "execution_count": 48,
   "id": "74ee0724-7273-456e-8d48-c864db6f25c1",
   "metadata": {},
   "outputs": [
    {
     "name": "stdout",
     "output_type": "stream",
     "text": [
      "              precision    recall  f1-score   support\n",
      "\n",
      "           0       0.89      0.99      0.94       980\n",
      "           1       0.98      0.99      0.98      1135\n",
      "           2       0.97      0.96      0.97      1032\n",
      "           3       0.98      0.96      0.97      1010\n",
      "           4       0.97      0.96      0.97       982\n",
      "           5       0.97      0.95      0.96       892\n",
      "           6       0.96      0.97      0.97       958\n",
      "           7       0.97      0.95      0.96      1028\n",
      "           8       0.97      0.93      0.95       974\n",
      "           9       0.95      0.96      0.95      1009\n",
      "\n",
      "    accuracy                           0.96     10000\n",
      "   macro avg       0.96      0.96      0.96     10000\n",
      "weighted avg       0.96      0.96      0.96     10000\n",
      "\n"
     ]
    }
   ],
   "source": [
    "from sklearn.metrics import classification_report\n",
    "\n",
    "print(classification_report(Ytrue, Ypredicted))"
   ]
  },
  {
   "cell_type": "code",
   "execution_count": null,
   "id": "18ab797b-707e-485b-92ef-79ec4457af3f",
   "metadata": {},
   "outputs": [],
   "source": []
  }
 ],
 "metadata": {
  "kernelspec": {
   "display_name": "Python 3 (ipykernel)",
   "language": "python",
   "name": "python3"
  },
  "language_info": {
   "codemirror_mode": {
    "name": "ipython",
    "version": 3
   },
   "file_extension": ".py",
   "mimetype": "text/x-python",
   "name": "python",
   "nbconvert_exporter": "python",
   "pygments_lexer": "ipython3",
   "version": "3.12.8"
  }
 },
 "nbformat": 4,
 "nbformat_minor": 5
}
